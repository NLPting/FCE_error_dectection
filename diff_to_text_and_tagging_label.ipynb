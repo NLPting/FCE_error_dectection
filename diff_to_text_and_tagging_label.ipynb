{
 "cells": [
  {
   "cell_type": "code",
   "execution_count": 25,
   "metadata": {},
   "outputs": [],
   "source": [
    "FCE_wiki = [i.replace('\\n','')for i in open('FCE_errant_diff.txt').readlines()]"
   ]
  },
  {
   "cell_type": "code",
   "execution_count": 26,
   "metadata": {},
   "outputs": [],
   "source": [
    "def diff2before_after_and_tagging_label(text):\n",
    "    label = []\n",
    "    miss_word = False\n",
    "    delte_index = []\n",
    "    before, after = [], []\n",
    "    for index , token in enumerate(text.split(' ')):\n",
    "        if token.startswith('{+'):\n",
    "            miss_word = True\n",
    "            #print(token)\n",
    "            after_word = token[2:-2].split('//')[0]\n",
    "            after.append(after_word)\n",
    "        elif token.startswith('[-'):\n",
    "            if token.endswith('+}'):\n",
    "                miss_word = False\n",
    "                delete_tmp, insert_tmp = token[2:-2].split('-]{+')\n",
    "                delete = delete_tmp.split('//')[0]\n",
    "                insert = insert_tmp.split('//')[0]\n",
    "                for i in delete.split('\\u3000'):\n",
    "                    label.append('F')\n",
    "                before.append(delete)\n",
    "                after.append(insert)\n",
    "                delte_index.append(index)\n",
    "            else:\n",
    "                miss_word = False\n",
    "                before_word = token[2:-2].split('//')[0]\n",
    "                for i in before_word.split('\\u3000'):\n",
    "                    label.append('F')\n",
    "                before.append(before_word)\n",
    "                delte_index.append(index)\n",
    "        else:\n",
    "            if miss_word==True:\n",
    "                label.append('F')\n",
    "                miss_word=False\n",
    "            else:\n",
    "                label.append('C')\n",
    "            before.append(token)\n",
    "            after.append(token)  \n",
    "    return ' '.join(before).replace('\\u3000',' '), ' '.join(after).replace('\\u3000',' ') , label"
   ]
  },
  {
   "cell_type": "code",
   "execution_count": 29,
   "metadata": {},
   "outputs": [],
   "source": [
    "F = open('FCE_erro_dectection.txt','w+')\n",
    "for text in FCE_wiki[50:60]:\n",
    "    before , after , label  = diff2before_after_and_tagging_label(text)\n",
    "    before_token  = before.split(' ')\n",
    "    for word , label in zip(before_token , label):\n",
    "        F.write(word+'\\t'+label+'\\n')\n",
    "    F.write('\\n') \n",
    "F.close()"
   ]
  },
  {
   "cell_type": "code",
   "execution_count": 30,
   "metadata": {},
   "outputs": [],
   "source": [
    "F = open('FCE_erro_dectection_allen.txt','w+')\n",
    "for text in FCE_wiki[50:60]:\n",
    "    before , after , label  = diff2before_after_and_tagging_label(text)\n",
    "    before_token  = before.split(' ')\n",
    "    for word , label in zip(before_token , label):\n",
    "        F.write(word+'###'+label+' ')\n",
    "    F.write('\\n') \n",
    "F.close()"
   ]
  },
  {
   "cell_type": "code",
   "execution_count": null,
   "metadata": {},
   "outputs": [],
   "source": []
  }
 ],
 "metadata": {
  "kernelspec": {
   "display_name": "LM_py36",
   "language": "python",
   "name": "lm_py36"
  },
  "language_info": {
   "codemirror_mode": {
    "name": "ipython",
    "version": 3
   },
   "file_extension": ".py",
   "mimetype": "text/x-python",
   "name": "python",
   "nbconvert_exporter": "python",
   "pygments_lexer": "ipython3",
   "version": "3.6.6"
  }
 },
 "nbformat": 4,
 "nbformat_minor": 2
}
