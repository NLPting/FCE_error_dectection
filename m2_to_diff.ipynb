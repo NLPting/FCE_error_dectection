{
 "cells": [
  {
   "cell_type": "code",
   "execution_count": 5,
   "metadata": {},
   "outputs": [],
   "source": [
    "#!/usr/bin/python\n",
    "# -*- coding: utf-8 -*-\n",
    "import fileinput\n",
    "import sys\n",
    "\n",
    "\n",
    "INSERT_TOKEN = '{{+{0}//{1}+}}'\n",
    "DELETE_TOKEN = '[-{0}//{1}-]'\n",
    "\n",
    "\n",
    "def parse_annotation(line):\n",
    "    position, error_type, correction, _, _, annotator = line.split('|||')\n",
    "    start, end = [int(index) for index in position.split()]\n",
    "    annotator = int(annotator)\n",
    "    correction = correction.strip()\n",
    "    return start, end, error_type, correction, annotator\n",
    "\n",
    "\n",
    "def parse_m2(lines):\n",
    "    sentence = ''\n",
    "    # tokens = []\n",
    "    edits = []\n",
    "\n",
    "    for line in lines:\n",
    "        line = line.strip()\n",
    "\n",
    "        if line.startswith('S '):\n",
    "            sentence = line[2:].strip()\n",
    "            # tokens = sentence.split()\n",
    "            edits = []\n",
    "        elif line.startswith('A '):\n",
    "            start, end, error_type, correction, _ = parse_annotation(line[2:])\n",
    "            # original = ' '.join(tokens[start:end])\n",
    "            edits.append((start, end, correction, error_type))\n",
    "        elif sentence:\n",
    "            yield sentence, edits\n",
    "            sentence = ''\n",
    "            edits = []\n",
    "\n",
    "    if sentence:\n",
    "        yield sentence, edits\n",
    "\n",
    "\n",
    "def to_edit_token(before, after, error_type):\n",
    "    edit_token = []\n",
    "    if before:\n",
    "        before = before.replace(' ','\\u3000')\n",
    "        edit_token.append(DELETE_TOKEN.format(before, error_type))\n",
    "    if after:\n",
    "        after = after.replace(' ','\\u3000')\n",
    "        edit_token.append(INSERT_TOKEN.format(after, error_type))\n",
    "    return ''.join(edit_token)\n",
    "\n",
    "\n",
    "def to_diff(sent, edits):\n",
    "    tokens = sent.split()\n",
    "    before = []\n",
    "    for start, end, after, error_type in reversed(edits):\n",
    "        before.clear()\n",
    "        for i in reversed(range(start, end)):\n",
    "            before.append(tokens.pop(i))\n",
    "        before_str = ' '.join(reversed(before))\n",
    "        edit_token = to_edit_token(before_str, after, error_type)\n",
    "        tokens.insert(start, edit_token)\n",
    "    return ' '.join(tokens)\n",
    "\n",
    "\n",
    "def main(iterator):\n",
    "    FCE = []\n",
    "    for sent, edits in parse_m2(iterator):\n",
    "        FCE.append(to_diff(sent, edits))\n",
    "    return FCE"
   ]
  },
  {
   "cell_type": "code",
   "execution_count": 7,
   "metadata": {},
   "outputs": [],
   "source": [
    "#Tmp = main(open('fce.md'))"
   ]
  },
  {
   "cell_type": "code",
   "execution_count": 10,
   "metadata": {},
   "outputs": [
    {
     "data": {
      "text/plain": [
       "['DECEMBER {+-NONE-//noop+} 12TH',\n",
       " 'PRINCIPAL MR . {+-NONE-//noop+} ROBERTSON',\n",
       " 'DEAR SIR {+-NONE-//noop+} ,']"
      ]
     },
     "execution_count": 10,
     "metadata": {},
     "output_type": "execute_result"
    }
   ],
   "source": [
    "main(open('untitled.txt'))"
   ]
  },
  {
   "cell_type": "code",
   "execution_count": 17,
   "metadata": {},
   "outputs": [
    {
     "data": {
      "text/plain": [
       "'DECEMBER 12TH'"
      ]
     },
     "execution_count": 17,
     "metadata": {},
     "output_type": "execute_result"
    }
   ],
   "source": [
    "' '.join([i for i in 'DECEMBER {+-NONE-//noop+} 12TH'.replace('{+-NONE-//noop+}','').split(' ') if i])"
   ]
  },
  {
   "cell_type": "code",
   "execution_count": 19,
   "metadata": {},
   "outputs": [],
   "source": [
    "FCE =[]\n",
    "for i in Tmp:\n",
    "    sen = i.replace('{+-NONE-//noop+}','')\n",
    "    new_sen = ' '.join([token for token in sen.split(' ') if token])\n",
    "    FCE.append(new_sen)"
   ]
  },
  {
   "cell_type": "code",
   "execution_count": 8,
   "metadata": {},
   "outputs": [],
   "source": [
    "#FCE = [i.replace('{+-NONE-//noop+}','').strip() for i in Tmp]"
   ]
  },
  {
   "cell_type": "code",
   "execution_count": 20,
   "metadata": {},
   "outputs": [],
   "source": [
    "f = open('FCE_errant_diff.txt','w+')\n",
    "for i in FCE:\n",
    "    f.write(i+'\\n')\n",
    "f.close()"
   ]
  },
  {
   "cell_type": "code",
   "execution_count": null,
   "metadata": {},
   "outputs": [],
   "source": []
  }
 ],
 "metadata": {
  "kernelspec": {
   "display_name": "Python 3",
   "language": "python",
   "name": "python3"
  },
  "language_info": {
   "codemirror_mode": {
    "name": "ipython",
    "version": 3
   },
   "file_extension": ".py",
   "mimetype": "text/x-python",
   "name": "python",
   "nbconvert_exporter": "python",
   "pygments_lexer": "ipython3",
   "version": "3.7.0"
  }
 },
 "nbformat": 4,
 "nbformat_minor": 2
}
